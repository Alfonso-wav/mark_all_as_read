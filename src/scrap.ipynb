{
 "cells": [
  {
   "cell_type": "code",
   "execution_count": 83,
   "metadata": {},
   "outputs": [],
   "source": [
    "from selenium import webdriver\n",
    "import undetected_chromedriver as uc\n",
    "from selenium.webdriver.common.by import By\n",
    "import random\n",
    "import time"
   ]
  },
  {
   "cell_type": "code",
   "execution_count": 84,
   "metadata": {},
   "outputs": [],
   "source": [
    "sleep_time = random.uniform(2, 4)"
   ]
  },
  {
   "cell_type": "code",
   "execution_count": 85,
   "metadata": {},
   "outputs": [],
   "source": [
    "#Enter Gmail\n",
    "\n",
    "url =\"https://mail.google.com/\"\n",
    "\n",
    "driver = uc.Chrome()\n",
    "\n",
    "driver.get(url)\n",
    "\n",
    "time.sleep(sleep_time)"
   ]
  },
  {
   "cell_type": "code",
   "execution_count": 86,
   "metadata": {},
   "outputs": [],
   "source": [
    "#Enter mail\n",
    "\n",
    "\n",
    "\n",
    "mail_cell = driver.find_element(By.XPATH, \"/html/body/div[1]/div[1]/div[2]/c-wiz/div/div[2]/div/div/div[1]/form/span/section/div/div/div[1]/div/div[1]/div/div[1]/input\")\n",
    "\n",
    "mail_cell.send_keys(\"alfonsomassaguer@gmail.com\")\n",
    "\n",
    "                                \n",
    "            "
   ]
  },
  {
   "cell_type": "code",
   "execution_count": 87,
   "metadata": {},
   "outputs": [],
   "source": [
    "\n",
    "button = driver.find_element(By.XPATH, \"/html/body/div[1]/div[1]/div[2]/c-wiz/div/div[3]/div/div[1]/div/div/button/span\")\n",
    "\n",
    "button.click()"
   ]
  },
  {
   "cell_type": "code",
   "execution_count": 88,
   "metadata": {},
   "outputs": [],
   "source": [
    "time.sleep(sleep_time)\n",
    "\n",
    "#Enter password\n",
    "\n",
    "pass_cell = driver.find_element(By.XPATH,\"/html/body/div[1]/div[1]/div[2]/c-wiz/div/div[2]/div/div/div/form/span/section[2]/div/div/div[1]/div[1]/div/div/div/div/div[1]/div/div[1]/input\")\n",
    "\n",
    "pass_cell.send_keys(\"Chuck1Jimi2!putooxan\")"
   ]
  },
  {
   "cell_type": "code",
   "execution_count": 89,
   "metadata": {},
   "outputs": [],
   "source": [
    "next_btn = driver.find_element(By.XPATH, \"/html/body/div[1]/div[1]/div[2]/c-wiz/div/div[3]/div/div[1]/div/div/button/span\")\n",
    "\n",
    "next_btn.click()"
   ]
  },
  {
   "cell_type": "code",
   "execution_count": 90,
   "metadata": {},
   "outputs": [],
   "source": [
    "#Verify it's you by phone\n",
    "time.sleep(sleep_time)\n",
    "time.sleep(sleep_time)\n",
    "time.sleep(sleep_time)"
   ]
  },
  {
   "cell_type": "code",
   "execution_count": 91,
   "metadata": {},
   "outputs": [],
   "source": [
    "#continue_btn = driver.find_element(By.XPATH, \"/html/body/div[1]/div[1]/div[2]/div/div/div[3]/div/div[1]/div/div/button/span\")\n",
    "\n",
    "# continue_btn.click()"
   ]
  },
  {
   "cell_type": "code",
   "execution_count": 92,
   "metadata": {},
   "outputs": [],
   "source": [
    "#button2 = driver.find_element(By.XPATH, \"/html/body/c-wiz[2]/c-wiz/div/div[1]/div/div/div/div[2]/div[3]/div/div[2]/div/span/span\")\n",
    "\n",
    "#button2.click()"
   ]
  },
  {
   "cell_type": "code",
   "execution_count": 95,
   "metadata": {},
   "outputs": [],
   "source": [
    "time.sleep(sleep_time)\n",
    "bts3 = driver.find_element(By.XPATH, \"/html/body/div[7]/div[3]/div/div[2]/div[2]/div/div/div/div[1]/div/div[1]/div[1]/div/div/div[7]\")\n",
    "\n",
    "bts3.click()"
   ]
  },
  {
   "cell_type": "code",
   "execution_count": 96,
   "metadata": {},
   "outputs": [],
   "source": [
    "\n",
    "as_read = driver.find_element(By.XPATH, \"/html/body/div[7]/div[3]/div/div[2]/div[2]/div/div/div/div[1]/div/div[1]/div[1]/div/div/div[7]/div\")\n",
    "\n",
    "as_read.click()"
   ]
  },
  {
   "cell_type": "code",
   "execution_count": null,
   "metadata": {},
   "outputs": [],
   "source": []
  }
 ],
 "metadata": {
  "kernelspec": {
   "display_name": "Python 3",
   "language": "python",
   "name": "python3"
  },
  "language_info": {
   "codemirror_mode": {
    "name": "ipython",
    "version": 3
   },
   "file_extension": ".py",
   "mimetype": "text/x-python",
   "name": "python",
   "nbconvert_exporter": "python",
   "pygments_lexer": "ipython3",
   "version": "3.12.2"
  }
 },
 "nbformat": 4,
 "nbformat_minor": 2
}
